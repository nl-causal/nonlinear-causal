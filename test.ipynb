{
    "cells": [
        {
            "cell_type": "code",
            "execution_count": 2,
            "source": [
                "from nl_causal.ts_models import _2SLS, _2SIR\n",
                "import numpy as np\n",
                "from sklearn.preprocessing import normalize\n",
                "from sim_data import sim\n",
                "from sklearn.preprocessing import StandardScaler\n",
                "from scipy import stats\n",
                "from sklearn.model_selection import train_test_split\n",
                "from sklearn.preprocessing import power_transform, quantile_transform"
            ],
            "outputs": [],
            "metadata": {}
        }
    ],
    "metadata": {
        "orig_nbformat": 4,
        "language_info": {
            "name": "python",
            "version": "3.8.10",
            "mimetype": "text/x-python",
            "codemirror_mode": {
                "name": "ipython",
                "version": 3
            },
            "pygments_lexer": "ipython3",
            "nbconvert_exporter": "python",
            "file_extension": ".py"
        },
        "kernelspec": {
            "name": "python3",
            "display_name": "Python 3.8.10 64-bit ('shiing': conda)"
        },
        "interpreter": {
            "hash": "414c3711fdd48b2f544ed65b2d7540fc36858fd70ee4f390e2b75c8d3b465c57"
        }
    },
    "nbformat": 4,
    "nbformat_minor": 2
}