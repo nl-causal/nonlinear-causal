{
 "cells": [
  {
   "cell_type": "markdown",
   "id": "591a05ce-bcef-48b9-a59b-46b5628c8a90",
   "metadata": {},
   "source": [
    "## Example: (nonlinear) IV causal inference (with invalid IVs)\n",
    "> Below is an example that demonstrates the usage of `ts_twas` in `nl_causal`."
   ]
  },
  {
   "cell_type": "markdown",
   "id": "97c7a188-69e2-44a5-922f-a90bec536f35",
   "metadata": {},
   "source": [
    "## Simulate Data\n",
    "\n",
    "- **library:** `nl_causal.base.sim`\n",
    "- **Two Stage Datasets:** two independent datasets, **2SLS** and **2SIR** require different types of datasets:\n",
    "  * For 2SLS:\n",
    "    + Stage 1. LD matrix (`np.dot(Z1.T, Z1)`) + XZ_sum (`np.dot(Z1.T, X1)`)\n",
    "    + Stage 2. ZY_sum (GWAS summary) (`np.dot(Z2.T, y2)`)\n",
    "  * For 2SIR:\n",
    "    + Stage 1. invidual-level data `Z1` and `X1`\n",
    "    + Stage 2. ZY_sum (GWAS summary) (`np.dot(Z2.T, y2)`)\n",
    "- **Remarks:** In terms of data, the advantage of 2SLS is merely requiring summary statistics of XZ and YZ in both Stages 1 and 2."
   ]
  },
  {
   "cell_type": "code",
   "execution_count": 1,
   "id": "77047bc4-5a0c-4587-97f1-60a340293c28",
   "metadata": {},
   "outputs": [
    {
     "name": "stdout",
     "output_type": "stream",
     "text": [
      "╔═════════════════════════════════════╗\n",
      "║ True Model                          ║\n",
      "║ ----------                          ║\n",
      "║ ψ(x) = z^T θ + ω;                   ║\n",
      "║ y = β ψ(x) + z^T α + ε.             ║\n",
      "║ ---                                 ║\n",
      "║ β: causal effect from x to y.       ║\n",
      "║ ψ(x): causal link among (z, x, y).  ║\n",
      "║ ---                                 ║\n",
      "║ True β : 0.100                      ║\n",
      "║ True ψ(x) : quad                    ║\n",
      "╚═════════════════════════════════════╝\n"
     ]
    }
   ],
   "source": [
    "## import libraries\n",
    "import numpy as np\n",
    "from nl_causal.base import sim\n",
    "from sklearn.preprocessing import StandardScaler\n",
    "from sklearn.model_selection import train_test_split\n",
    "\n",
    "## simulate a dataset\n",
    "np.random.seed(0)\n",
    "n, p = 3000, 20\n",
    "beta0 = 0.10\n",
    "theta0 = np.ones(p) / np.sqrt(p)\n",
    "## simulate invalid IVs\n",
    "alpha0 = np.zeros(p)\n",
    "alpha0[:5] = 1.\n",
    "\n",
    "Z, X, y, phi = sim(n, p, theta0, beta0, alpha0=alpha0, case='quad', feat='AP-normal')\n",
    "\n",
    "## generate two-stage dataset\n",
    "Z1, Z2, X1, X2, y1, y2 = train_test_split(Z, X, y, test_size=0.5, random_state=42)\n",
    "n1, n2 = len(Z1), len(Z2)\n",
    "LD_Z1, cov_ZX1 = np.dot(Z1.T, Z1), np.dot(Z1.T, X1)\n",
    "LD_Z2, cov_ZY2 = np.dot(Z2.T, Z2), np.dot(Z2.T, y2)"
   ]
  },
  {
   "cell_type": "markdown",
   "id": "5f6b116f-12e2-4e67-a4e3-c411daa527f2",
   "metadata": {},
   "source": [
    "## Models\n",
    "- **library:** `nl_causal.ts_models._2SLS` and `nl_causal.ts_models._2SIR`\n",
    "- **Methods:** [2SLS](https://doi.org/10.1080/01621459.2014.994705) and [2SIR](https://openreview.net/pdf?id=cylRvJYxYI)\n",
    "- **sparse regression:**\n",
    "    + `sparse_reg=None`: assume all IVs are valid.\n",
    "    + specify a sparse regression method from `sparse_reg` to detect invalid IVs, such as `SCAD`.\n",
    "- **Remarks.** 2SIR circumvents the linearity assumption in the standard 2SLS, and includes 2SLS as a special case."
   ]
  },
  {
   "cell_type": "code",
   "execution_count": 2,
   "id": "a69ce60e-611f-4933-a1f8-d14c492d7ad4",
   "metadata": {},
   "outputs": [],
   "source": [
    "from nl_causal.ts_models import _2SLS, _2SIR"
   ]
  },
  {
   "cell_type": "code",
   "execution_count": 3,
   "id": "48013561-29e2-4b6a-8b9e-cd3493468cc8",
   "metadata": {},
   "outputs": [
    {
     "data": {
      "text/html": [
       "<div>\n",
       "<style scoped>\n",
       "    .dataframe tbody tr th:only-of-type {\n",
       "        vertical-align: middle;\n",
       "    }\n",
       "\n",
       "    .dataframe tbody tr th {\n",
       "        vertical-align: top;\n",
       "    }\n",
       "\n",
       "    .dataframe thead th {\n",
       "        text-align: right;\n",
       "    }\n",
       "</style>\n",
       "<table border=\"1\" class=\"dataframe\">\n",
       "  <thead>\n",
       "    <tr style=\"text-align: right;\">\n",
       "      <th></th>\n",
       "      <th>candidate_model</th>\n",
       "      <th>criteria</th>\n",
       "      <th>mse</th>\n",
       "    </tr>\n",
       "  </thead>\n",
       "  <tbody>\n",
       "    <tr>\n",
       "      <th>0</th>\n",
       "      <td>[0, 1, 2, 3, 4, 20]</td>\n",
       "      <td>-2.031802</td>\n",
       "      <td>0.126593</td>\n",
       "    </tr>\n",
       "    <tr>\n",
       "      <th>1</th>\n",
       "      <td>[0, 1, 2, 3, 4, 14, 20]</td>\n",
       "      <td>-2.031524</td>\n",
       "      <td>0.125892</td>\n",
       "    </tr>\n",
       "    <tr>\n",
       "      <th>2</th>\n",
       "      <td>[0, 1, 2, 3, 4, 5, 14, 20]</td>\n",
       "      <td>-2.030115</td>\n",
       "      <td>0.125337</td>\n",
       "    </tr>\n",
       "    <tr>\n",
       "      <th>3</th>\n",
       "      <td>[0, 1, 2, 3, 4, 18, 20]</td>\n",
       "      <td>-2.029720</td>\n",
       "      <td>0.126120</td>\n",
       "    </tr>\n",
       "    <tr>\n",
       "      <th>4</th>\n",
       "      <td>[0, 1, 2, 3, 4, 5, 18, 20]</td>\n",
       "      <td>-2.027659</td>\n",
       "      <td>0.125645</td>\n",
       "    </tr>\n",
       "  </tbody>\n",
       "</table>\n",
       "</div>"
      ],
      "text/plain": [
       "              candidate_model  criteria       mse\n",
       "0         [0, 1, 2, 3, 4, 20] -2.031802  0.126593\n",
       "1     [0, 1, 2, 3, 4, 14, 20] -2.031524  0.125892\n",
       "2  [0, 1, 2, 3, 4, 5, 14, 20] -2.030115  0.125337\n",
       "3     [0, 1, 2, 3, 4, 18, 20] -2.029720  0.126120\n",
       "4  [0, 1, 2, 3, 4, 5, 18, 20] -2.027659  0.125645"
      ]
     },
     "execution_count": 3,
     "metadata": {},
     "output_type": "execute_result"
    }
   ],
   "source": [
    "## 2SLS\n",
    "\n",
    "# specify a sparse regression model to detect invalid IVs\n",
    "from nl_causal.sparse_reg import L0_IC\n",
    "Ks = range(int(p/2))\n",
    "reg_model = L0_IC(fit_intercept=False, alphas=10**np.arange(-1,3,.3),\n",
    "\t\t\t\t  Ks=Ks, max_iter=10000, refit=False, find_best=False)\n",
    "LS = _2SLS(sparse_reg=reg_model)\n",
    "\n",
    "## Stage-1 fit theta\n",
    "LS.fit_theta(LD_Z1, cov_ZX1)\n",
    "## Stage-2 fit beta\n",
    "LS.fit_beta(LD_Z2, cov_ZY2, n2)\n",
    "LS.selection_summary().head(5)"
   ]
  },
  {
   "cell_type": "code",
   "execution_count": 4,
   "id": "bf31a357-dfeb-4e57-8df2-19c66eaa5534",
   "metadata": {},
   "outputs": [
    {
     "name": "stdout",
     "output_type": "stream",
     "text": [
      "╔═════════════════════════════════════════════╗\n",
      "║ 2SLS                                        ║\n",
      "║ ----                                        ║\n",
      "║ x = z^T θ + ω;                              ║\n",
      "║ y = β x + z^T α + ε.                        ║\n",
      "║ ---                                         ║\n",
      "║ β: causal effect from x to y.               ║\n",
      "║ ---                                         ║\n",
      "║ Est β (CI): -0.015 (CI: [-0.1045  0.0754])  ║\n",
      "║ p-value: 0.7503, -log10(p): 0.1248          ║\n",
      "╚═════════════════════════════════════════════╝\n"
     ]
    }
   ],
   "source": [
    "## produce p_value and CI for beta\n",
    "LS.test_effect(n2, LD_Z2, cov_ZY2)\n",
    "LS.CI_beta(n1, n2, Z1, X1, LD_Z2, cov_ZY2)\n",
    "LS.summary()"
   ]
  },
  {
   "cell_type": "code",
   "execution_count": 5,
   "id": "1145259d-b41c-4381-b4c7-dd1f6c29c101",
   "metadata": {},
   "outputs": [
    {
     "data": {
      "text/html": [
       "<div>\n",
       "<style scoped>\n",
       "    .dataframe tbody tr th:only-of-type {\n",
       "        vertical-align: middle;\n",
       "    }\n",
       "\n",
       "    .dataframe tbody tr th {\n",
       "        vertical-align: top;\n",
       "    }\n",
       "\n",
       "    .dataframe thead th {\n",
       "        text-align: right;\n",
       "    }\n",
       "</style>\n",
       "<table border=\"1\" class=\"dataframe\">\n",
       "  <thead>\n",
       "    <tr style=\"text-align: right;\">\n",
       "      <th></th>\n",
       "      <th>candidate_model</th>\n",
       "      <th>criteria</th>\n",
       "      <th>mse</th>\n",
       "    </tr>\n",
       "  </thead>\n",
       "  <tbody>\n",
       "    <tr>\n",
       "      <th>0</th>\n",
       "      <td>[0, 1, 2, 3, 4, 5, 20]</td>\n",
       "      <td>-2.035332</td>\n",
       "      <td>0.125414</td>\n",
       "    </tr>\n",
       "    <tr>\n",
       "      <th>1</th>\n",
       "      <td>[0, 1, 2, 3, 4, 20]</td>\n",
       "      <td>-2.034942</td>\n",
       "      <td>0.126196</td>\n",
       "    </tr>\n",
       "    <tr>\n",
       "      <th>2</th>\n",
       "      <td>[0, 1, 2, 3, 4, 5, 14, 20]</td>\n",
       "      <td>-2.031866</td>\n",
       "      <td>0.125118</td>\n",
       "    </tr>\n",
       "    <tr>\n",
       "      <th>3</th>\n",
       "      <td>[0, 1, 2, 3, 4, 5, 18, 20]</td>\n",
       "      <td>-2.030607</td>\n",
       "      <td>0.125275</td>\n",
       "    </tr>\n",
       "    <tr>\n",
       "      <th>4</th>\n",
       "      <td>[0, 1, 2, 3, 4, 5, 18, 19, 20]</td>\n",
       "      <td>-2.028742</td>\n",
       "      <td>0.124780</td>\n",
       "    </tr>\n",
       "  </tbody>\n",
       "</table>\n",
       "</div>"
      ],
      "text/plain": [
       "                  candidate_model  criteria       mse\n",
       "0          [0, 1, 2, 3, 4, 5, 20] -2.035332  0.125414\n",
       "1             [0, 1, 2, 3, 4, 20] -2.034942  0.126196\n",
       "2      [0, 1, 2, 3, 4, 5, 14, 20] -2.031866  0.125118\n",
       "3      [0, 1, 2, 3, 4, 5, 18, 20] -2.030607  0.125275\n",
       "4  [0, 1, 2, 3, 4, 5, 18, 19, 20] -2.028742  0.124780"
      ]
     },
     "execution_count": 5,
     "metadata": {},
     "output_type": "execute_result"
    }
   ],
   "source": [
    "## 2SIR\n",
    "\n",
    "Ks = range(int(p/2))\n",
    "reg_model = L0_IC(fit_intercept=False, alphas=10**np.arange(-1,3,.3),\n",
    "\t\t\t\t  Ks=Ks, max_iter=10000, refit=False, find_best=False)\n",
    "\n",
    "SIR = _2SIR(sparse_reg=reg_model)\n",
    "## Stage-1 fit theta\n",
    "SIR.fit_theta(Z1, X1)\n",
    "## Stage-2 fit beta\n",
    "SIR.fit_beta(LD_Z2, cov_ZY2, n2)\n",
    "SIR.selection_summary().head(5)"
   ]
  },
  {
   "cell_type": "code",
   "execution_count": 6,
   "id": "08444fb4-7861-4a6e-9796-79c706cf6af7",
   "metadata": {},
   "outputs": [
    {
     "name": "stdout",
     "output_type": "stream",
     "text": [
      "╔══════════════════════════════════════════╗\n",
      "║ 2SIR                                     ║\n",
      "║ ----                                     ║\n",
      "║ ψ(x) = z^T θ + ω;                        ║\n",
      "║ y = β ψ(x) + z^T α + ε.                  ║\n",
      "║ ---                                      ║\n",
      "║ β: causal effect from x to y.            ║\n",
      "║ ---                                      ║\n",
      "║ Est β (CI): 0.076 (CI: [0.0201 0.1328])  ║\n",
      "║ p-value: 0.0081, -log10(p): 2.0905       ║\n",
      "╚══════════════════════════════════════════╝\n"
     ]
    }
   ],
   "source": [
    "## generate CI for beta\n",
    "SIR.test_effect(n2, LD_Z2, cov_ZY2)\n",
    "SIR.CI_beta(n1, n2, Z1, X1, LD_Z2, cov_ZY2)\n",
    "SIR.summary()"
   ]
  },
  {
   "cell_type": "markdown",
   "id": "538608b4-200f-45e7-ad25-f0fa8ce65de1",
   "metadata": {},
   "source": [
    "## Inference Results\n",
    "\n",
    "In the simulated data, the true causal effect is `beta0 = 0.10`.\n",
    "\n",
    "- 2SLS provides wrong p-values and CIs, and fails to reject the null hypothesis that `H0: beta = 0`. \n",
    "- 2SIR provides a valid CI and reject the null hypothesis."
   ]
  },
  {
   "cell_type": "markdown",
   "id": "1ed114ca-0204-440c-9195-74e1971984a1",
   "metadata": {},
   "source": [
    "## Estimation the causal link  ψ(x)\n",
    "- This is only feasible for **2SIR**."
   ]
  },
  {
   "cell_type": "code",
   "execution_count": 11,
   "id": "5397df4b-0652-47c5-a0d1-c2450a2c9fdc",
   "metadata": {},
   "outputs": [],
   "source": [
    "from sklearn.neighbors import KNeighborsRegressor\n",
    "\n",
    "## fit the causal link\n",
    "SIR.cond_mean=KNeighborsRegressor(n_neighbors=15)\n",
    "SIR.fit_link(Z1=Z1, X1=X1)\n",
    "# evalue ψ(x) based on the estimated causal link\n",
    "est_phi = SIR.link(X[:,np.newaxis])\n",
    "\n",
    "# since the model may change in constants, we first center the data\n",
    "phi = phi - np.mean(phi)\n",
    "# est_phi = est_phi - np.mean(est_phi)"
   ]
  },
  {
   "cell_type": "code",
   "execution_count": 17,
   "id": "b7270616-7332-4d7f-bbcd-c23e65c14c11",
   "metadata": {},
   "outputs": [
    {
     "name": "stdout",
     "output_type": "stream",
     "text": [
      "[[0.1645 0.1704 0.2293 0.2059 0.2824 0.2527 0.2084 0.2547 0.2162 0.1722\n",
      "  0.2347 0.3346 0.1947 0.1613 0.1885 0.1965 0.2666 0.1729 0.2197 0.2574]]\n",
      "[ 0.7617  0.3493  0.3426 ... -0.0497  0.0194  0.1664]\n"
     ]
    }
   ],
   "source": [
    "print(SIR.sir.directions_)\n",
    "print(Z1.dot(SIR.theta))"
   ]
  },
  {
   "cell_type": "code",
   "execution_count": 12,
   "id": "c8f1e9e4-3c7a-4605-a708-b8a5d0a77f67",
   "metadata": {},
   "outputs": [
    {
     "data": {
      "image/png": "[encoded data removed]",
      "text/plain": [
       "<Figure size 640x480 with 1 Axes>"
      ]
     },
     "metadata": {},
     "output_type": "display_data"
    }
   ],
   "source": [
    "import matplotlib.pyplot as plt\n",
    "\n",
    "plt.xlim(1.1*min(X), 1.1*max(X))\n",
    "plt.scatter(X, phi, s=2.5, label='true ψ(x)')\n",
    "plt.scatter(X, -est_phi, s=2.5, label='est ψ(x)')\n",
    "plt.legend()\n",
    "plt.show()"
   ]
  }
 ],
 "metadata": {
  "kernelspec": {
   "display_name": "Python 3 (ipykernel)",
   "language": "python",
   "name": "python3"
  },
  "language_info": {
   "codemirror_mode": {
    "name": "ipython",
    "version": 3
   },
   "file_extension": ".py",
   "mimetype": "text/x-python",
   "name": "python",
   "nbconvert_exporter": "python",
   "pygments_lexer": "ipython3",
   "version": "3.10.12"
  }
 },
 "nbformat": 4,
 "nbformat_minor": 5
}
