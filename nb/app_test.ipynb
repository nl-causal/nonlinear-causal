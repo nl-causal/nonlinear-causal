{
 "cells": [
  {
   "cell_type": "code",
   "execution_count": 1,
   "id": "3e9e16c2",
   "metadata": {},
   "outputs": [],
   "source": [
    "import pandas as pd\n",
    "from nl_causal.ts_models import _2SLS, _2SIR\n",
    "from nl_causal.linear_reg import L0_IC\n",
    "import numpy as np\n",
    "from sklearn.preprocessing import normalize\n",
    "from sim_data import sim\n",
    "from sklearn.preprocessing import StandardScaler\n",
    "from scipy import stats\n",
    "from sklearn.model_selection import train_test_split\n",
    "from sklearn.preprocessing import power_transform, quantile_transform\n",
    "import random\n",
    "from os import listdir\n",
    "from os.path import isfile, join, isdir\n",
    "import statsmodels.api as sm\n",
    "from sklearn.feature_selection import VarianceThreshold\n",
    "from os import path"
   ]
  },
  {
   "cell_type": "code",
   "execution_count": 2,
   "id": "360b1dce",
   "metadata": {},
   "outputs": [],
   "source": [
    "mypath = 'path_to_data'\n",
    "gene_folders = [name for name in listdir(mypath) if isdir(join(mypath, name))]"
   ]
  },
  {
   "cell_type": "code",
   "execution_count": 3,
   "id": "9b77935e",
   "metadata": {},
   "outputs": [],
   "source": [
    "np.random.seed(0)\n",
    "np.set_printoptions(formatter={'float': lambda x: \"{0:0.4f}\".format(x)})\n",
    "df = {'gene': [], 'p-value': [], 'beta': [], 'method': []}"
   ]
  },
  {
   "cell_type": "code",
   "execution_count": null,
   "id": "59d14efb",
   "metadata": {
    "scrolled": true
   },
   "outputs": [],
   "source": [
    "for folder_tmp in gene_folders:\n",
    "    if 'July20_2SIR' not in folder_tmp:\n",
    "        continue\n",
    "    gene_code = folder_tmp.replace('July20_2SIR', '')\n",
    "    print('\\n##### Causal inference of %s #####' %gene_code)\n",
    "    ## load data\n",
    "    dir_name = mypath+'/'+folder_tmp\n",
    "    sum_stat = pd.read_csv(dir_name+\"/sum_stat.csv\", sep=' ', index_col=0)\n",
    "    gene_exp = -pd.read_csv(dir_name+\"/gene_exp.csv\", sep=' ', index_col=0)\n",
    "    snp = pd.read_csv(dir_name+\"/snp.csv\", sep=' ', index_col=0)\n",
    "    ## exclude the gene with nan in the dataset\n",
    "    if sum_stat.isnull().sum().sum() + snp.isnull().sum().sum() + gene_exp.isnull().sum().sum() > 0:\n",
    "        continue\n",
    "    if not all(sum_stat.index == snp.columns):\n",
    "        print('The cols in sum_stat are not corresponding to snps, we rename the sum_stat!')\n",
    "        sum_stat.index = snp.columns\n",
    "\n",
    "    ## n1 and n2 is pre-given\n",
    "    n1, n2, p = len(gene_exp), 54162, snp.shape[1]\n",
    "    LD_Z1, cov_ZX1 = np.dot(snp.values.T, snp.values), np.dot(snp.values.T, gene_exp.values.flatten())\n",
    "    LD_Z2, cov_ZY2 = LD_Z1/n1*n2, sum_stat.values.flatten()*n2\n",
    "\n",
    "    ## 2SLS\n",
    "    LS = _2SLS()\n",
    "    ## Stage-1 fit theta\n",
    "    LS.fit_theta(LD_Z1, cov_ZX1)\n",
    "    ## Stage-2 fit beta\n",
    "    LS.fit_beta(LD_Z2, cov_ZY2, n2)\n",
    "    ## produce p_value for beta\n",
    "    LS.test_effect(n2, LD_Z2, cov_ZY2)\n",
    "    print('-'*20)\n",
    "    print('LS beta: %.3f' %LS.beta)\n",
    "    print('p-value based on 2SLS: %.5f' %LS.p_value)\n",
    "    \n",
    "    ## compute R2 for the 2SLS\n",
    "    ## save the record\n",
    "    df['gene'].append(gene_code)\n",
    "    df['method'].append('2SLS')\n",
    "    df['p-value'].append(LS.p_value)\n",
    "    df['beta'].append(LS.beta)\n",
    "\n",
    "    ## PT-2SLS\n",
    "    PT_X1 = power_transform(gene_exp.values.reshape(-1,1), method='yeo-johnson').flatten()\n",
    "    PT_X1 = PT_X1 - PT_X1.mean()\n",
    "    PT_cor_ZX1 = np.dot(snp.values.T, PT_X1)\n",
    "    PT_LS = _2SLS()\n",
    "    ## Stage-1 fit theta\n",
    "    PT_LS.fit_theta(LD_Z1, PT_cor_ZX1)\n",
    "    ## Stage-2 fit beta\n",
    "    PT_LS.fit_beta(LD_Z2, cov_ZY2, n2)\n",
    "    ## produce p-value for beta\n",
    "    PT_LS.test_effect(n2, LD_Z2, cov_ZY2)\n",
    "\n",
    "    print('-'*20)\n",
    "    print('PT-LS beta: %.3f' %PT_LS.beta)\n",
    "    print('p-value based on PT-2SLS: %.5f' %PT_LS.p_value)\n",
    "\n",
    "    ## save the record\n",
    "    df['gene'].append(gene_code)\n",
    "    df['method'].append('PT-2SLS')\n",
    "    df['p-value'].append(PT_LS.p_value)\n",
    "    df['beta'].append(PT_LS.beta)\n",
    "\n",
    "    ## 2SIR\n",
    "    SIR = _2SIR(data_in_slice=0.2*n1)\n",
    "    ## Stage-1 fit theta\n",
    "    SIR.fit_theta(Z1=snp.values, X1=gene_exp.values.flatten())\n",
    "    ## Stage-2 fit beta\n",
    "    SIR.fit_beta(LD_Z2, cov_ZY2, n2)\n",
    "    ## generate p-value for beta\n",
    "    SIR.test_effect(n2, LD_Z2, cov_ZY2)\n",
    "    print('-'*20)\n",
    "    print('2SIR eigenvalues: %.3f' %SIR.sir.eigenvalues_)\n",
    "    print('2SIR beta: %.3f' %SIR.beta)\n",
    "    print('p-value based on 2SIR: %.5f' %SIR.p_value)\n",
    "            \n",
    "    ## save the record\n",
    "    df['gene'].append(gene_code)\n",
    "    df['method'].append('2SIR')\n",
    "    df['p-value'].append(SIR.p_value)\n",
    "    df['beta'].append(SIR.beta)\n",
    "\n",
    "    ## Comb-2SIR\n",
    "    data_in_slice_lst = [.05*n1, .1*n1, .2*n1, .3*n1, .5*n1]\n",
    "    comb_pvalue, comb_beta, comb_eigenvalue = [], [], []\n",
    "    for data_in_slice_tmp in data_in_slice_lst:\n",
    "        SIR = _2SIR(data_in_slice=data_in_slice_tmp)\n",
    "        ## Stage-1 fit theta\n",
    "        SIR.fit_theta(Z1=snp.values, X1=gene_exp.values.flatten())\n",
    "        ## Stage-2 fit beta\n",
    "        SIR.fit_beta(LD_Z2, cov_ZY2, n2)\n",
    "        ## generate p-value for beta\n",
    "        SIR.test_effect(n2, LD_Z2, cov_ZY2)\n",
    "        comb_beta.append(SIR.beta)\n",
    "        comb_pvalue.append(SIR.p_value)\n",
    "        comb_eigenvalue.append(SIR.sir.eigenvalues_[0])\n",
    "    comb_T = np.tan((0.5 - np.array(comb_pvalue))*np.pi).mean()\n",
    "    correct_pvalue = min( max(.5 - np.arctan(comb_T)/np.pi, np.finfo(np.float64).eps), 1.0)\n",
    "    print('-'*20)\n",
    "    print('Comb-2SIR eigenvalues: %.3f' %np.mean(comb_eigenvalue))\n",
    "    print('Comb-2SIR beta: %.3f' %np.mean(comb_beta))\n",
    "    print('p-value based on Comb-2SIR: %.5f' %correct_pvalue)\n",
    "\n",
    "    ## save the record\n",
    "    df['gene'].append(gene_code)\n",
    "    df['method'].append('Comb-2SIR')\n",
    "    df['p-value'].append(correct_pvalue)\n",
    "    df['beta'].append(np.mean(comb_beta))\n",
    "\n",
    "df = pd.DataFrame.from_dict(df)"
   ]
  },
  {
   "cell_type": "code",
   "execution_count": 5,
   "id": "b37de4e1",
   "metadata": {},
   "outputs": [
    {
     "data": {
      "text/html": [
       "<div>\n",
       "<style scoped>\n",
       "    .dataframe tbody tr th:only-of-type {\n",
       "        vertical-align: middle;\n",
       "    }\n",
       "\n",
       "    .dataframe tbody tr th {\n",
       "        vertical-align: top;\n",
       "    }\n",
       "\n",
       "    .dataframe thead th {\n",
       "        text-align: right;\n",
       "    }\n",
       "</style>\n",
       "<table border=\"1\" class=\"dataframe\">\n",
       "  <thead>\n",
       "    <tr style=\"text-align: right;\">\n",
       "      <th></th>\n",
       "      <th>gene</th>\n",
       "      <th>p-value</th>\n",
       "      <th>beta</th>\n",
       "      <th>method</th>\n",
       "    </tr>\n",
       "  </thead>\n",
       "  <tbody>\n",
       "    <tr>\n",
       "      <th>21690</th>\n",
       "      <td>CLPS</td>\n",
       "      <td>0.987946</td>\n",
       "      <td>0.000188</td>\n",
       "      <td>2SIR</td>\n",
       "    </tr>\n",
       "    <tr>\n",
       "      <th>39533</th>\n",
       "      <td>IFNA10</td>\n",
       "      <td>0.827260</td>\n",
       "      <td>-0.002878</td>\n",
       "      <td>PT-2SLS</td>\n",
       "    </tr>\n",
       "    <tr>\n",
       "      <th>15321</th>\n",
       "      <td>RASSF2</td>\n",
       "      <td>0.763675</td>\n",
       "      <td>0.003542</td>\n",
       "      <td>PT-2SLS</td>\n",
       "    </tr>\n",
       "    <tr>\n",
       "      <th>27167</th>\n",
       "      <td>USP3</td>\n",
       "      <td>0.106309</td>\n",
       "      <td>0.018060</td>\n",
       "      <td>Comb-2SIR</td>\n",
       "    </tr>\n",
       "    <tr>\n",
       "      <th>39426</th>\n",
       "      <td>SLC25A51</td>\n",
       "      <td>0.658329</td>\n",
       "      <td>0.005132</td>\n",
       "      <td>2SIR</td>\n",
       "    </tr>\n",
       "    <tr>\n",
       "      <th>38990</th>\n",
       "      <td>HLF</td>\n",
       "      <td>0.186863</td>\n",
       "      <td>0.014551</td>\n",
       "      <td>2SIR</td>\n",
       "    </tr>\n",
       "    <tr>\n",
       "      <th>1322</th>\n",
       "      <td>MASP2</td>\n",
       "      <td>0.377253</td>\n",
       "      <td>0.011340</td>\n",
       "      <td>2SIR</td>\n",
       "    </tr>\n",
       "    <tr>\n",
       "      <th>46601</th>\n",
       "      <td>SCARA5</td>\n",
       "      <td>0.149602</td>\n",
       "      <td>-0.015242</td>\n",
       "      <td>PT-2SLS</td>\n",
       "    </tr>\n",
       "    <tr>\n",
       "      <th>57909</th>\n",
       "      <td>EFTUD1</td>\n",
       "      <td>0.039076</td>\n",
       "      <td>-0.029672</td>\n",
       "      <td>PT-2SLS</td>\n",
       "    </tr>\n",
       "    <tr>\n",
       "      <th>635</th>\n",
       "      <td>MSL1</td>\n",
       "      <td>0.315792</td>\n",
       "      <td>0.013196</td>\n",
       "      <td>Comb-2SIR</td>\n",
       "    </tr>\n",
       "  </tbody>\n",
       "</table>\n",
       "</div>"
      ],
      "text/plain": [
       "           gene   p-value      beta     method\n",
       "21690      CLPS  0.987946  0.000188       2SIR\n",
       "39533    IFNA10  0.827260 -0.002878    PT-2SLS\n",
       "15321    RASSF2  0.763675  0.003542    PT-2SLS\n",
       "27167      USP3  0.106309  0.018060  Comb-2SIR\n",
       "39426  SLC25A51  0.658329  0.005132       2SIR\n",
       "38990       HLF  0.186863  0.014551       2SIR\n",
       "1322      MASP2  0.377253  0.011340       2SIR\n",
       "46601    SCARA5  0.149602 -0.015242    PT-2SLS\n",
       "57909    EFTUD1  0.039076 -0.029672    PT-2SLS\n",
       "635        MSL1  0.315792  0.013196  Comb-2SIR"
      ]
     },
     "execution_count": 5,
     "metadata": {},
     "output_type": "execute_result"
    }
   ],
   "source": [
    "df.sample(10)"
   ]
  },
  {
   "cell_type": "markdown",
   "id": "ee39a478",
   "metadata": {},
   "source": [
    "## QQ-plot for p-values"
   ]
  },
  {
   "cell_type": "code",
   "execution_count": 7,
   "id": "4a444f24",
   "metadata": {},
   "outputs": [],
   "source": [
    "import matplotlib.pyplot as plt\n",
    "import scipy.stats as stats\n",
    "import seaborn as sns\n",
    "from scipy.stats import rv_continuous\n",
    "import statsmodels.api as sm\n",
    "import random\n",
    "from scipy.stats import beta, chi2\n",
    "from nl_causal.base.rv import neg_log_uniform"
   ]
  },
  {
   "cell_type": "code",
   "execution_count": 8,
   "id": "d658dbe6",
   "metadata": {},
   "outputs": [],
   "source": [
    "ci = 0.95\n",
    "methods = ['2SLS', 'PT-2SLS', '2SIR']\n",
    "colors = [sns.color_palette(\"dark\")[2], sns.color_palette(\"dark\")[0], sns.color_palette(\"dark\")[1]]"
   ]
  },
  {
   "cell_type": "code",
   "execution_count": 9,
   "id": "739d62ba",
   "metadata": {},
   "outputs": [],
   "source": [
    "all_genes = list(set(df['gene']))\n",
    "num_gene = len(all_genes)\n",
    "\n",
    "## points for CIs\n",
    "low_bound = [beta.ppf((1-ci)/2, a=i, b=num_gene-i+1) for i in range(1,num_gene+1)]\n",
    "up_bound = [beta.ppf((1+ci)/2, a=i, b=num_gene-i+1) for i in range(1,num_gene+1)]\n",
    "ep_points = (np.arange(1,num_gene+1) - 1/2) / num_gene"
   ]
  },
  {
   "cell_type": "code",
   "execution_count": 11,
   "id": "12de6553",
   "metadata": {},
   "outputs": [
    {
     "data": {
      "image/png": "[encoded data removed]",
      "text/plain": [
       "<Figure size 1080x360 with 3 Axes>"
      ]
     },
     "metadata": {
      "needs_background": "light"
     },
     "output_type": "display_data"
    }
   ],
   "source": [
    "fig, axs = plt.subplots(1,3,figsize=(15, 5))\n",
    "for i in range(3):\n",
    "    sm.qqplot(-np.log10(df[df['method'] == methods[i]]['p-value'].values), dist=neg_log_uniform(), line=\"45\", ax=axs[i])\n",
    "    axs[i].set_xlim([0,4.0])\n",
    "    axs[i].set_ylim([0,15])\n",
    "    axs[i].get_lines()[0].set_markersize(3.0)\n",
    "    axs[i].get_lines()[0].set_markeredgecolor(colors[i])\n",
    "    axs[i].get_lines()[0].set_markerfacecolor(colors[i])\n",
    "    axs[i].get_lines()[0].set_markerfacecoloralt(colors[i])\n",
    "\n",
    "axs[0].get_lines()[0].set_marker('^')\n",
    "axs[1].get_lines()[0].set_marker('d')\n",
    "axs[2].get_lines()[0].set_marker('o')\n",
    "\n",
    "axs[0].get_lines()[0].set(label='2SLS')\n",
    "axs[1].get_lines()[0].set(label='PT-2SLS')\n",
    "axs[2].get_lines()[0].set(label='2SIR')\n",
    "\n",
    "for i in range(3):\n",
    "    axs[i].plot(-np.log10(ep_points), -np.log10(low_bound), 'k--', alpha=0.3)\n",
    "    axs[i].plot(-np.log10(ep_points), -np.log10(up_bound), 'k--', alpha=0.3)\n",
    "    axs[i].legend()\n",
    "plt.show()"
   ]
  },
  {
   "cell_type": "markdown",
   "id": "94abced7",
   "metadata": {},
   "source": [
    "## Bar-plot for significant genes"
   ]
  },
  {
   "cell_type": "code",
   "execution_count": 12,
   "id": "79672f94",
   "metadata": {},
   "outputs": [],
   "source": [
    "import seaborn as sns\n",
    "import matplotlib.pyplot as plt"
   ]
  },
  {
   "cell_type": "code",
   "execution_count": 13,
   "id": "4991f07c",
   "metadata": {},
   "outputs": [],
   "source": [
    "gene_set = list(set(df['gene']))\n",
    "num_gen = len(gene_set)\n",
    "level = 0.05 / num_gen"
   ]
  },
  {
   "cell_type": "code",
   "execution_count": 14,
   "id": "aa301bb9",
   "metadata": {},
   "outputs": [],
   "source": [
    "# take the gene with at least one siginificant p-value\n",
    "min_p = df.groupby('gene')['p-value'].min()\n",
    "gene_set = list(min_p[min_p < level].index)"
   ]
  },
  {
   "cell_type": "code",
   "execution_count": 15,
   "id": "395aa862",
   "metadata": {},
   "outputs": [],
   "source": [
    "df = df[df['gene'].isin(gene_set)]\n",
    "df['log-p-value'] = - np.log10( df['p-value'] )\n",
    "## we only print the results for comb-2SIR\n",
    "df = df[df['method'] != '2SIR']"
   ]
  },
  {
   "cell_type": "code",
   "execution_count": 16,
   "id": "71396dac",
   "metadata": {},
   "outputs": [
    {
     "data": {
      "image/png": "[encoded data removed]",
      "text/plain": [
       "<Figure size 1728x576 with 1 Axes>"
      ]
     },
     "metadata": {},
     "output_type": "display_data"
    }
   ],
   "source": [
    "gene_set = set(df['gene'])\n",
    "gene_set = list(gene_set)\n",
    "gene_set.sort()\n",
    "## plot for the final results\n",
    "sns.set_theme(style=\"whitegrid\")\n",
    "# Draw a nested barplot by species and sex\n",
    "plt.rcParams[\"figure.figsize\"] = (16,6)\n",
    "\n",
    "g = sns.catplot(\n",
    "    data=df, kind=\"bar\", order=gene_set,\n",
    "    x=\"gene\", y=\"log-p-value\", hue=\"method\",\n",
    "    alpha=.5, height=8, legend=False, aspect=3,\n",
    "    # palette='deep'\n",
    "    # palette=sns.color_palette(['green', 'blue', 'orange'])\n",
    "    palette = [sns.color_palette(\"dark\")[2], sns.color_palette(\"dark\")[0], sns.color_palette(\"dark\")[1]]\n",
    ")\n",
    "plt.axhline(-np.log10(level), ls='--', color='r', alpha=.8)\n",
    "g.despine(left=True)\n",
    "g.set_axis_labels(\"gene\", \"-log(p-value)\")\n",
    "plt.legend(loc='upper right')\n",
    "plt.show()"
   ]
  }
 ],
 "metadata": {
  "kernelspec": {
   "display_name": "Python 3 (ipykernel)",
   "language": "python",
   "name": "python3"
  },
  "language_info": {
   "codemirror_mode": {
    "name": "ipython",
    "version": 3
   },
   "file_extension": ".py",
   "mimetype": "text/x-python",
   "name": "python",
   "nbconvert_exporter": "python",
   "pygments_lexer": "ipython3",
   "version": "3.9.7"
  }
 },
 "nbformat": 4,
 "nbformat_minor": 5
}
