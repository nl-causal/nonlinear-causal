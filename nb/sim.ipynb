{
 "cells": [
  {
   "cell_type": "markdown",
   "id": "591a05ce-bcef-48b9-a59b-46b5628c8a90",
   "metadata": {},
   "source": [
    "## Example: (nonlinear) IV causal inference (no invalid IVs)\n",
    "> Below is an example that demonstrates the usage of `ts_twas` in `nl_causal`."
   ]
  },
  {
   "cell_type": "markdown",
   "id": "97c7a188-69e2-44a5-922f-a90bec536f35",
   "metadata": {},
   "source": [
    "## Simulate Data\n",
    "\n",
    "- **library:** `nl_causal.base.sim`\n",
    "- **Two Stage Datasets:** two independent datasets, **2SLS** and **2SIR** require different types of datasets:\n",
    "  * For 2SLS:\n",
    "    + Stage 1. LD matrix (`np.dot(Z1.T, Z1)`) + XZ_sum (`np.dot(Z1.T, X1)`)\n",
    "    + Stage 2. ZY_sum (GWAS summary) (`np.dot(Z2.T, y2)`)\n",
    "  * For 2SIR:\n",
    "    + Stage 1. invidual-level data `Z1` and `X1`\n",
    "    + Stage 2. ZY_sum (GWAS summary) (`np.dot(Z2.T, y2)`)\n",
    "- **Remarks:** In terms of data, the advantage of 2SLS is merely requiring summary statistics of XZ and YZ in both Stages 1 and 2."
   ]
  },
  {
   "cell_type": "code",
   "execution_count": 1,
   "id": "77047bc4-5a0c-4587-97f1-60a340293c28",
   "metadata": {},
   "outputs": [
    {
     "name": "stdout",
     "output_type": "stream",
     "text": [
      "╔═════════════════════════════════════╗\n",
      "║ True Model                          ║\n",
      "║ ----------                          ║\n",
      "║ ψ(x) = z^T θ + ω;                   ║\n",
      "║ y = β ψ(x) + z^T α + ε.             ║\n",
      "║ ---                                 ║\n",
      "║ β: causal effect from x to y.       ║\n",
      "║ ψ(x): causal link among (z, x, y).  ║\n",
      "║ ---                                 ║\n",
      "║ True β : 0.100                      ║\n",
      "║ True ψ(x) : log                     ║\n",
      "╚═════════════════════════════════════╝\n"
     ]
    }
   ],
   "source": [
    "## import libraries\n",
    "import numpy as np\n",
    "from nl_causal.base import sim\n",
    "from sklearn.preprocessing import StandardScaler\n",
    "from sklearn.model_selection import train_test_split\n",
    "\n",
    "## simulate a dataset\n",
    "np.random.seed(0)\n",
    "n, p = 3000, 20\n",
    "beta0 = 0.10\n",
    "theta0 = np.ones(p) / np.sqrt(p)\n",
    "Z, X, y, phi = sim(n, p, theta0, beta0, case='log', feat='normal')\n",
    "## generate two-stage dataset\n",
    "Z1, Z2, X1, X2, y1, y2 = train_test_split(Z, X, y, test_size=0.5, random_state=42)\n",
    "n1, n2 = len(Z1), len(Z2)\n",
    "LD_Z1, cov_ZX1 = np.dot(Z1.T, Z1), np.dot(Z1.T, X1)\n",
    "LD_Z2, cov_ZY2 = np.dot(Z2.T, Z2), np.dot(Z2.T, y2)"
   ]
  },
  {
   "cell_type": "markdown",
   "id": "5f6b116f-12e2-4e67-a4e3-c411daa527f2",
   "metadata": {},
   "source": [
    "## Models\n",
    "- **library:** `nl_causal.ts_models._2SLS` and `nl_causal.ts_models._2SIR`\n",
    "- **Methods:** [2SLS](https://doi.org/10.1080/01621459.2014.994705) and [2SIR](https://openreview.net/pdf?id=cylRvJYxYI)\n",
    "- **sparse regression:**\n",
    "    + `sparse_reg=None`: assume all IVs are valid.\n",
    "    + specify a sparse regression method from `sparse_reg` to detect invalid IVs, such as `SCAD`.\n",
    "- **Remarks.** 2SIR circumvents the linearity assumption in the standard 2SLS, and includes 2SLS as a special case."
   ]
  },
  {
   "cell_type": "code",
   "execution_count": 2,
   "id": "a69ce60e-611f-4933-a1f8-d14c492d7ad4",
   "metadata": {},
   "outputs": [],
   "source": [
    "from nl_causal.ts_models import _2SLS, _2SIR"
   ]
  },
  {
   "cell_type": "code",
   "execution_count": 3,
   "id": "48013561-29e2-4b6a-8b9e-cd3493468cc8",
   "metadata": {},
   "outputs": [
    {
     "name": "stdout",
     "output_type": "stream",
     "text": [
      "╔════════════════════════════════════════════╗\n",
      "║ 2SLS                                       ║\n",
      "║ ----                                       ║\n",
      "║ x = z^T θ + ω;                             ║\n",
      "║ y = β x + z^T α + ε.                       ║\n",
      "║ ---                                        ║\n",
      "║ β: causal effect from x to y.              ║\n",
      "║ ---                                        ║\n",
      "║ Est β (CI): 0.041 (CI: [-0.1699  0.2525])  ║\n",
      "║ p-value: 0.2789, -log10(p): 0.5546         ║\n",
      "╚════════════════════════════════════════════╝\n"
     ]
    }
   ],
   "source": [
    "## 2SLS\n",
    "LS = _2SLS(sparse_reg=None)\n",
    "## Stage-1 fit theta\n",
    "LS.fit_theta(LD_Z1, cov_ZX1)\n",
    "## Stage-2 fit beta\n",
    "LS.fit_beta(LD_Z2, cov_ZY2, n2)\n",
    "## produce p_value and CI for beta\n",
    "LS.test_effect(n2, LD_Z2, cov_ZY2)\n",
    "LS.CI_beta(n1, n2, Z1, X1, LD_Z2, cov_ZY2)\n",
    "LS.summary()"
   ]
  },
  {
   "cell_type": "code",
   "execution_count": 4,
   "id": "1145259d-b41c-4381-b4c7-dd1f6c29c101",
   "metadata": {},
   "outputs": [
    {
     "name": "stdout",
     "output_type": "stream",
     "text": [
      "╔══════════════════════════════════════════╗\n",
      "║ 2SIR                                     ║\n",
      "║ ----                                     ║\n",
      "║ ψ(x) = z^T θ + ω;                        ║\n",
      "║ y = β ψ(x) + z^T α + ε.                  ║\n",
      "║ ---                                      ║\n",
      "║ β: causal effect from x to y.            ║\n",
      "║ ---                                      ║\n",
      "║ Est β (CI): 0.080 (CI: [0.0079 0.1522])  ║\n",
      "║ p-value: 0.0317, -log10(p): 1.4994       ║\n",
      "╚══════════════════════════════════════════╝\n"
     ]
    }
   ],
   "source": [
    "## 2SIR\n",
    "SIR = _2SIR(sparse_reg=None)\n",
    "## Stage-1 fit theta\n",
    "SIR.fit_theta(Z1, X1)\n",
    "## Stage-2 fit beta\n",
    "SIR.fit_beta(LD_Z2, cov_ZY2, n2)\n",
    "## generate CI for beta\n",
    "SIR.test_effect(n2, LD_Z2, cov_ZY2)\n",
    "SIR.CI_beta(n1, n2, Z1, X1, LD_Z2, cov_ZY2)\n",
    "SIR.summary()"
   ]
  },
  {
   "cell_type": "markdown",
   "id": "538608b4-200f-45e7-ad25-f0fa8ce65de1",
   "metadata": {},
   "source": [
    "## Results\n",
    "\n",
    "In the simulated data, the true causal effect is `beta0 = 0.10`. \n",
    "\n",
    "- 2SLS provides wrong p-values and CIs, and fails to reject the null hypothesis that `H0: beta = 0`. \n",
    "- 2SIR provides a valid CI and reject the null hypothesis."
   ]
  },
  {
   "cell_type": "markdown",
   "id": "73bdc2a2-bb8b-495f-bc9d-a1d25943b6d9",
   "metadata": {},
   "source": [
    "## Estimation the causal link ψ(x)\n",
    "- This is only feasible for 2SIR."
   ]
  },
  {
   "cell_type": "code",
   "execution_count": 5,
   "id": "3e6ce40b-ba63-40b1-a313-9854e9847ee3",
   "metadata": {},
   "outputs": [],
   "source": [
    "from sklearn.neighbors import KNeighborsRegressor\n",
    "\n",
    "## fit the causal link\n",
    "SIR.cond_mean=KNeighborsRegressor(n_neighbors=20)\n",
    "SIR.fit_link(Z1=Z1, X1=X1)\n",
    "# evalue ψ(x) based on the estimated causal link\n",
    "est_phi = SIR.link(X[:,np.newaxis])"
   ]
  },
  {
   "cell_type": "code",
   "execution_count": 6,
   "id": "8d6a22b8-024a-49d1-85d5-ca62eaa2fd0e",
   "metadata": {},
   "outputs": [
    {
     "data": {
      "image/png": "[encoded data removed]",
      "text/plain": [
       "<Figure size 640x480 with 1 Axes>"
      ]
     },
     "metadata": {},
     "output_type": "display_data"
    }
   ],
   "source": [
    "import matplotlib.pyplot as plt\n",
    "\n",
    "plt.xlim(1.1*np.quantile(X,.01), 1.1*np.quantile(X,.99))\n",
    "plt.scatter(X, phi, s=2.5, label='true ψ(x)')\n",
    "plt.scatter(X, est_phi, s=2.5, label='est ψ(x)')\n",
    "plt.legend()\n",
    "plt.show()"
   ]
  }
 ],
 "metadata": {
  "kernelspec": {
   "display_name": "Python 3 (ipykernel)",
   "language": "python",
   "name": "python3"
  },
  "language_info": {
   "codemirror_mode": {
    "name": "ipython",
    "version": 3
   },
   "file_extension": ".py",
   "mimetype": "text/x-python",
   "name": "python",
   "nbconvert_exporter": "python",
   "pygments_lexer": "ipython3",
   "version": "3.10.12"
  }
 },
 "nbformat": 4,
 "nbformat_minor": 5
}
