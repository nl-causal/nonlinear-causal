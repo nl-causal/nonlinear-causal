{
 "cells": [
  {
   "cell_type": "markdown",
   "id": "dfd847ba-96c5-4fb8-9434-6596c7080aff",
   "metadata": {},
   "source": [
    "## Example: sparse regression by `nl_causal`\n",
    "> Below is an example that demonstrates the usage of `sparse_reg` in `nl_causal`."
   ]
  },
  {
   "cell_type": "markdown",
   "id": "4a3b334a-9639-4677-87a5-98b29c43be8f",
   "metadata": {},
   "source": [
    "## Simulate Data"
   ]
  },
  {
   "cell_type": "code",
   "execution_count": 27,
   "id": "b78e8ae7-3bbf-4da6-8970-6c48f5959a5e",
   "metadata": {},
   "outputs": [
    {
     "name": "stdout",
     "output_type": "stream",
     "text": [
      "true coef is:\n",
      "[ 0.    14.092  0.     0.     0.   ]\n"
     ]
    }
   ],
   "source": [
    "## import libraries\n",
    "\n",
    "from nl_causal.sparse_reg import WLasso, SCAD, SCAD_IC, L0_IC\n",
    "from sklearn.datasets import make_regression\n",
    "import numpy as np\n",
    "\n",
    "np.set_printoptions(precision=3)\n",
    "## simulated datasets\n",
    "\n",
    "X, y, coef = make_regression(n_samples=10, n_features=5, noise=0.1, n_informative=1, coef=True, random_state=42)\n",
    "\n",
    "print('true coef is:')\n",
    "print(coef)"
   ]
  },
  {
   "cell_type": "markdown",
   "id": "6a5f25fc-bdea-493c-adc2-6aa64fbbce33",
   "metadata": {},
   "source": [
    "**Fit linear model by sparse regression methods**\n",
    "\n",
    "**Methods**\n",
    "- WLasso\n",
    "- SCAD \n",
    "\n",
    "**Notes**\n",
    "- `ada_weight` is the weight that multiplies the penalty term for each coefficient, controlling the variables to be selected. For example, when `ada_weight = [1, 1, 0, 0, 0]`, it means that the penalty term is applied equally to the coefficients for the first two features, and no penalty is applied to the coefficients for the last three features. Alternatively, we select over the first two features, and we do NOT select the last three features."
   ]
  },
  {
   "cell_type": "code",
   "execution_count": 28,
   "id": "5fb156ba-0cfe-4264-a8f1-b01eed1a4f54",
   "metadata": {},
   "outputs": [
    {
     "name": "stdout",
     "output_type": "stream",
     "text": [
      "[ 0.    12.16  -0.325  0.538  0.204]\n"
     ]
    }
   ],
   "source": [
    "## Fit by WLasso\n",
    "clf = WLasso(alpha=1.0, ada_weight=[1, 1, 0, 0, 0])\n",
    "clf.fit(X, y)\n",
    "print(clf.coef_)"
   ]
  },
  {
   "cell_type": "code",
   "execution_count": 29,
   "id": "5c633cd7-440f-445d-ae6a-4ce7da3a9fd9",
   "metadata": {},
   "outputs": [
    {
     "name": "stdout",
     "output_type": "stream",
     "text": [
      "[ 0.000e+00  1.407e+01 -1.123e-02 -2.569e-02 -1.468e-02]\n"
     ]
    }
   ],
   "source": [
    "## Fit by SCAD\n",
    "clf = SCAD(alpha=1.0, ada_weight=[1, 1, 0, 0, 0])\n",
    "clf.fit(X, y)\n",
    "print(clf.coef_)"
   ]
  },
  {
   "cell_type": "markdown",
   "id": "8f5a7710-2e4f-43a4-99c4-8224c0404db7",
   "metadata": {},
   "source": [
    "**Model selection by sparse regression methods with alphas**\n",
    "\n",
    "The steps are conducted by follows.\n",
    "- Given a range of `alphas`\n",
    "- Fit with a `sparse_reg`, such as `WLasso` or `SCAD`, generating candidate models\n",
    "- Refit candidate models by `sparse_reg`, then select the best model based on a `critera`\n",
    "\n",
    "**SCAD_IC**\n",
    "- generating candidate models by `SCAD`\n",
    "- refit candidate models by `SCAD`\n",
    "\n",
    "**L0_IC**\n",
    "- generating candidate models by `SCAD`\n",
    "- refit candidate models by `OLS`"
   ]
  },
  {
   "cell_type": "code",
   "execution_count": 53,
   "id": "77cdede0-a79e-4015-a21b-72507e745f1f",
   "metadata": {},
   "outputs": [
    {
     "name": "stdout",
     "output_type": "stream",
     "text": [
      "[ 0.    14.071  0.     0.     0.   ]\n"
     ]
    },
    {
     "data": {
      "text/html": [
       "<div>\n",
       "<style scoped>\n",
       "    .dataframe tbody tr th:only-of-type {\n",
       "        vertical-align: middle;\n",
       "    }\n",
       "\n",
       "    .dataframe tbody tr th {\n",
       "        vertical-align: top;\n",
       "    }\n",
       "\n",
       "    .dataframe thead th {\n",
       "        text-align: right;\n",
       "    }\n",
       "</style>\n",
       "<table border=\"1\" class=\"dataframe\">\n",
       "  <thead>\n",
       "    <tr style=\"text-align: right;\">\n",
       "      <th></th>\n",
       "      <th>model</th>\n",
       "      <th>criteria</th>\n",
       "      <th>mse</th>\n",
       "    </tr>\n",
       "  </thead>\n",
       "  <tbody>\n",
       "    <tr>\n",
       "      <th>0</th>\n",
       "      <td>(0, 1, 3, 4)</td>\n",
       "      <td>1.930493</td>\n",
       "      <td>0.005473</td>\n",
       "    </tr>\n",
       "    <tr>\n",
       "      <th>1</th>\n",
       "      <td>(1, 2)</td>\n",
       "      <td>1.531616</td>\n",
       "      <td>0.005808</td>\n",
       "    </tr>\n",
       "    <tr>\n",
       "      <th>2</th>\n",
       "      <td>(1, 2, 3)</td>\n",
       "      <td>1.715279</td>\n",
       "      <td>0.005555</td>\n",
       "    </tr>\n",
       "    <tr>\n",
       "      <th>3</th>\n",
       "      <td>(1, 3, 4)</td>\n",
       "      <td>1.714873</td>\n",
       "      <td>0.005553</td>\n",
       "    </tr>\n",
       "    <tr>\n",
       "      <th>4</th>\n",
       "      <td>(1, 2, 3, 4)</td>\n",
       "      <td>1.932343</td>\n",
       "      <td>0.005483</td>\n",
       "    </tr>\n",
       "    <tr>\n",
       "      <th>5</th>\n",
       "      <td>(1,)</td>\n",
       "      <td>1.367517</td>\n",
       "      <td>0.006166</td>\n",
       "    </tr>\n",
       "    <tr>\n",
       "      <th>6</th>\n",
       "      <td>(0, 1, 2, 3, 4)</td>\n",
       "      <td>2.151293</td>\n",
       "      <td>0.005422</td>\n",
       "    </tr>\n",
       "    <tr>\n",
       "      <th>7</th>\n",
       "      <td>()</td>\n",
       "      <td>21218.630616</td>\n",
       "      <td>115.048146</td>\n",
       "    </tr>\n",
       "    <tr>\n",
       "      <th>8</th>\n",
       "      <td>(1, 3)</td>\n",
       "      <td>1.558414</td>\n",
       "      <td>0.005953</td>\n",
       "    </tr>\n",
       "  </tbody>\n",
       "</table>\n",
       "</div>"
      ],
      "text/plain": [
       "             model      criteria         mse\n",
       "0     (0, 1, 3, 4)      1.930493    0.005473\n",
       "1           (1, 2)      1.531616    0.005808\n",
       "2        (1, 2, 3)      1.715279    0.005555\n",
       "3        (1, 3, 4)      1.714873    0.005553\n",
       "4     (1, 2, 3, 4)      1.932343    0.005483\n",
       "5             (1,)      1.367517    0.006166\n",
       "6  (0, 1, 2, 3, 4)      2.151293    0.005422\n",
       "7               ()  21218.630616  115.048146\n",
       "8           (1, 3)      1.558414    0.005953"
      ]
     },
     "execution_count": 53,
     "metadata": {},
     "output_type": "execute_result"
    }
   ],
   "source": [
    "## model selection by SCAD_IC\n",
    "from nl_causal import sparse_reg\n",
    "clf = sparse_reg.L0_IC(alphas=[.001, .01, .1, 1.])\n",
    "clf.fit(X, y)\n",
    "print(clf.coef_)\n",
    "clf.selection_summary()"
   ]
  },
  {
   "cell_type": "code",
   "execution_count": 49,
   "id": "37dafad6-f41b-4a0d-85e8-30bbe31a0a82",
   "metadata": {},
   "outputs": [
    {
     "name": "stdout",
     "output_type": "stream",
     "text": [
      "[ 0.    14.071  0.     0.     0.   ]\n"
     ]
    },
    {
     "data": {
      "text/html": [
       "<div>\n",
       "<style scoped>\n",
       "    .dataframe tbody tr th:only-of-type {\n",
       "        vertical-align: middle;\n",
       "    }\n",
       "\n",
       "    .dataframe tbody tr th {\n",
       "        vertical-align: top;\n",
       "    }\n",
       "\n",
       "    .dataframe thead th {\n",
       "        text-align: right;\n",
       "    }\n",
       "</style>\n",
       "<table border=\"1\" class=\"dataframe\">\n",
       "  <thead>\n",
       "    <tr style=\"text-align: right;\">\n",
       "      <th></th>\n",
       "      <th>model</th>\n",
       "      <th>criteria</th>\n",
       "      <th>mse</th>\n",
       "    </tr>\n",
       "  </thead>\n",
       "  <tbody>\n",
       "    <tr>\n",
       "      <th>0</th>\n",
       "      <td>(0, 1, 3, 4)</td>\n",
       "      <td>1.930493</td>\n",
       "      <td>0.005473</td>\n",
       "    </tr>\n",
       "    <tr>\n",
       "      <th>1</th>\n",
       "      <td>(1, 2)</td>\n",
       "      <td>1.531616</td>\n",
       "      <td>0.005808</td>\n",
       "    </tr>\n",
       "    <tr>\n",
       "      <th>2</th>\n",
       "      <td>(1, 2, 3)</td>\n",
       "      <td>1.715279</td>\n",
       "      <td>0.005555</td>\n",
       "    </tr>\n",
       "    <tr>\n",
       "      <th>3</th>\n",
       "      <td>(1, 3, 4)</td>\n",
       "      <td>1.714873</td>\n",
       "      <td>0.005553</td>\n",
       "    </tr>\n",
       "    <tr>\n",
       "      <th>4</th>\n",
       "      <td>(1, 2, 3, 4)</td>\n",
       "      <td>1.932343</td>\n",
       "      <td>0.005483</td>\n",
       "    </tr>\n",
       "    <tr>\n",
       "      <th>5</th>\n",
       "      <td>(1,)</td>\n",
       "      <td>1.367517</td>\n",
       "      <td>0.006166</td>\n",
       "    </tr>\n",
       "    <tr>\n",
       "      <th>6</th>\n",
       "      <td>(0, 1, 2, 3, 4)</td>\n",
       "      <td>2.151293</td>\n",
       "      <td>0.005422</td>\n",
       "    </tr>\n",
       "    <tr>\n",
       "      <th>7</th>\n",
       "      <td>()</td>\n",
       "      <td>21218.630616</td>\n",
       "      <td>115.048146</td>\n",
       "    </tr>\n",
       "    <tr>\n",
       "      <th>8</th>\n",
       "      <td>(1, 3)</td>\n",
       "      <td>1.558414</td>\n",
       "      <td>0.005953</td>\n",
       "    </tr>\n",
       "  </tbody>\n",
       "</table>\n",
       "</div>"
      ],
      "text/plain": [
       "             model      criteria         mse\n",
       "0     (0, 1, 3, 4)      1.930493    0.005473\n",
       "1           (1, 2)      1.531616    0.005808\n",
       "2        (1, 2, 3)      1.715279    0.005555\n",
       "3        (1, 3, 4)      1.714873    0.005553\n",
       "4     (1, 2, 3, 4)      1.932343    0.005483\n",
       "5             (1,)      1.367517    0.006166\n",
       "6  (0, 1, 2, 3, 4)      2.151293    0.005422\n",
       "7               ()  21218.630616  115.048146\n",
       "8           (1, 3)      1.558414    0.005953"
      ]
     },
     "execution_count": 49,
     "metadata": {},
     "output_type": "execute_result"
    }
   ],
   "source": [
    "## model selection by L0_IC\n",
    "clf = L0_IC(alphas=[.001, .01, .1, 1.])\n",
    "clf.fit(X, y)\n",
    "print(clf.coef_)\n",
    "clf.selection_summary()"
   ]
  }
 ],
 "metadata": {
  "kernelspec": {
   "display_name": "Python 3 (ipykernel)",
   "language": "python",
   "name": "python3"
  },
  "language_info": {
   "codemirror_mode": {
    "name": "ipython",
    "version": 3
   },
   "file_extension": ".py",
   "mimetype": "text/x-python",
   "name": "python",
   "nbconvert_exporter": "python",
   "pygments_lexer": "ipython3",
   "version": "3.10.12"
  }
 },
 "nbformat": 4,
 "nbformat_minor": 5
}
