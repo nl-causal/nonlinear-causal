{
 "cells": [
  {
   "cell_type": "markdown",
   "id": "dfd847ba-96c5-4fb8-9434-6596c7080aff",
   "metadata": {},
   "source": [
    "# Example: sparse regression by `nl_causal`\n",
    "> Below is an example that demonstrates the usage of `sparse_reg` in `nl_causal`."
   ]
  },
  {
   "cell_type": "code",
   "execution_count": 6,
   "id": "b78e8ae7-3bbf-4da6-8970-6c48f5959a5e",
   "metadata": {},
   "outputs": [],
   "source": [
    "## import libraries\n",
    "\n",
    "from nl_causal.linear_reg import WLasso, SCAD, SCAD_IC, L0_IC\n",
    "from sklearn.datasets import make_regression\n",
    "\n",
    "## simulated datasets\n",
    "\n",
    "X, y = make_regression(n_samples=5, n_features=2, noise=1, random_state=42)\n",
    "clf = sparse_reg.WLasso(alpha=0.1, ada_weight=[1.,0.])"
   ]
  }
 ],
 "metadata": {
  "kernelspec": {
   "display_name": "Python 3 (ipykernel)",
   "language": "python",
   "name": "python3"
  },
  "language_info": {
   "codemirror_mode": {
    "name": "ipython",
    "version": 3
   },
   "file_extension": ".py",
   "mimetype": "text/x-python",
   "name": "python",
   "nbconvert_exporter": "python",
   "pygments_lexer": "ipython3",
   "version": "3.10.12"
  }
 },
 "nbformat": 4,
 "nbformat_minor": 5
}
