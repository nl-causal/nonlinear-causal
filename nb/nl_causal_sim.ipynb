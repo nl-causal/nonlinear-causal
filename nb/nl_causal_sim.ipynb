{
 "cells": [
  {
   "cell_type": "markdown",
   "id": "591a05ce-bcef-48b9-a59b-46b5628c8a90",
   "metadata": {},
   "source": [
    "## Example: (nonlinear) IV causal inference by `nl_causal`\n",
    "> Below is an example that demonstrates the usage of `ts_twas` in `nl_causal`."
   ]
  },
  {
   "cell_type": "code",
   "execution_count": 1,
   "id": "3b86a543-d474-4438-9b80-d1357a88be0c",
   "metadata": {},
   "outputs": [],
   "source": [
    "## import global libraries\n",
    "import numpy as np"
   ]
  },
  {
   "cell_type": "markdown",
   "id": "97c7a188-69e2-44a5-922f-a90bec536f35",
   "metadata": {},
   "source": [
    "## Simulate Data\n",
    "\n",
    "- **library:** `nl_causal.base.sim`\n",
    "- **Two Stage Datasets:** two independent datasets, **2SLS** and **2SIR** require different types of datasets:\n",
    "  * For 2SLS:\n",
    "    + Stage 1. LD matrix (`np.dot(Z1.T, Z1)`) + XZ_sum (`np.dot(Z1.T, X1)`)\n",
    "    + Stage 2. ZY_sum (GWAS summary) (`np.dot(Z2.T, y2)`)\n",
    "  * For 2SIR:\n",
    "    + Stage 1. invidual-level data `Z1` and `X1`\n",
    "    + Stage 2. ZY_sum (GWAS summary) (`np.dot(Z2.T, y2)`)\n",
    "- **Remarks:** In terms of data, the advantage of 2SLS is merely requiring summary statistics of XZ and YZ in both Stages 1 and 2."
   ]
  },
  {
   "cell_type": "code",
   "execution_count": 2,
   "id": "77047bc4-5a0c-4587-97f1-60a340293c28",
   "metadata": {},
   "outputs": [],
   "source": [
    "## import libraries\n",
    "from nl_causal.base import sim\n",
    "from sklearn.preprocessing import StandardScaler\n",
    "from sklearn.model_selection import train_test_split\n",
    "\n",
    "## simulate a dataset\n",
    "np.random.seed(1)\n",
    "n, p = 2000, 50\n",
    "beta0 = 0.10\n",
    "theta0 = np.ones(p) / np.sqrt(p)\n",
    "Z, X, y, phi = sim(n, p, theta0, beta0, case='inverse', feat='normal')\n",
    "\n",
    "## normalize the dataset\n",
    "center = StandardScaler(with_std=False)\n",
    "mean_X, mean_y = X.mean(), y.mean()\n",
    "Z, X, y = center.fit_transform(Z), X - mean_X, y - mean_y\n",
    "y_scale = y.std()\n",
    "y = y / y_scale\n",
    "\n",
    "## generate two-stage dataset\n",
    "Z1, Z2, X1, X2, y1, y2 = train_test_split(Z, X, y, test_size=0.5, random_state=42)\n",
    "n1, n2 = len(Z1), len(Z2)\n",
    "LD_Z1, cov_ZX1 = np.dot(Z1.T, Z1), np.dot(Z1.T, X1)\n",
    "LD_Z2, cov_ZY2 = np.dot(Z2.T, Z2), np.dot(Z2.T, y2)"
   ]
  },
  {
   "cell_type": "markdown",
   "id": "5f6b116f-12e2-4e67-a4e3-c411daa527f2",
   "metadata": {},
   "source": [
    "## Models\n",
    "- **library:** `nl_causal.ts_models._2SLS` and `nl_causal.ts_models._2SIR`\n",
    "- **Methods:** [2SLS](https://doi.org/10.1080/01621459.2014.994705) and [2SIR](https://openreview.net/pdf?id=cylRvJYxYI)"
   ]
  },
  {
   "cell_type": "code",
   "execution_count": 3,
   "id": "a69ce60e-611f-4933-a1f8-d14c492d7ad4",
   "metadata": {},
   "outputs": [
    {
     "ename": "ModuleNotFoundError",
     "evalue": "No module named 'nl_causal.ts_models.base'",
     "output_type": "error",
     "traceback": [
      "\u001b[0;31m---------------------------------------------------------------------------\u001b[0m",
      "\u001b[0;31mModuleNotFoundError\u001b[0m                       Traceback (most recent call last)",
      "Cell \u001b[0;32mIn[3], line 1\u001b[0m\n\u001b[0;32m----> 1\u001b[0m \u001b[38;5;28;01mfrom\u001b[39;00m \u001b[38;5;21;01mnl_causal\u001b[39;00m\u001b[38;5;21;01m.\u001b[39;00m\u001b[38;5;21;01mts_models\u001b[39;00m \u001b[38;5;28;01mimport\u001b[39;00m _2SLS, _2SIR\n",
      "File \u001b[0;32m~/np/lib/python3.10/site-packages/nl_causal/ts_models/__init__.py:1\u001b[0m\n\u001b[0;32m----> 1\u001b[0m \u001b[38;5;28;01mfrom\u001b[39;00m \u001b[38;5;21;01m.\u001b[39;00m\u001b[38;5;21;01mts_twas\u001b[39;00m \u001b[38;5;28;01mimport\u001b[39;00m _2SLS, _2SIR\n\u001b[1;32m      2\u001b[0m \u001b[38;5;66;03m# import sys\u001b[39;00m\n\u001b[1;32m      3\u001b[0m \n\u001b[1;32m      4\u001b[0m \u001b[38;5;66;03m# sys.path.append('..')\u001b[39;00m\n\u001b[1;32m      6\u001b[0m __all__ \u001b[38;5;241m=\u001b[39m [\n\u001b[1;32m      7\u001b[0m \t\u001b[38;5;124m\"\u001b[39m\u001b[38;5;124m_2SLS\u001b[39m\u001b[38;5;124m\"\u001b[39m, \n\u001b[1;32m      8\u001b[0m \t\u001b[38;5;124m\"\u001b[39m\u001b[38;5;124m_2SIR\u001b[39m\u001b[38;5;124m\"\u001b[39m,\n\u001b[1;32m      9\u001b[0m \t]\n",
      "File \u001b[0;32m~/np/lib/python3.10/site-packages/nl_causal/ts_models/ts_twas.py:12\u001b[0m\n\u001b[1;32m     10\u001b[0m \u001b[38;5;28;01mfrom\u001b[39;00m \u001b[38;5;21;01mscipy\u001b[39;00m\u001b[38;5;21;01m.\u001b[39;00m\u001b[38;5;21;01mlinalg\u001b[39;00m \u001b[38;5;28;01mimport\u001b[39;00m sqrtm\n\u001b[1;32m     11\u001b[0m \u001b[38;5;28;01mimport\u001b[39;00m \u001b[38;5;21;01mpandas\u001b[39;00m \u001b[38;5;28;01mas\u001b[39;00m \u001b[38;5;21;01mpd\u001b[39;00m\n\u001b[0;32m---> 12\u001b[0m \u001b[38;5;28;01mfrom\u001b[39;00m \u001b[38;5;21;01m.\u001b[39;00m\u001b[38;5;21;01mbase\u001b[39;00m \u001b[38;5;28;01mimport\u001b[39;00m print_inf_res\n\u001b[1;32m     14\u001b[0m \u001b[38;5;28;01mclass\u001b[39;00m \u001b[38;5;21;01m_2SLS\u001b[39;00m(\u001b[38;5;28mobject\u001b[39m):\n\u001b[1;32m     15\u001b[0m \u001b[38;5;250m    \u001b[39m\u001b[38;5;124;03m\"\"\"\u001b[39;00m\n\u001b[1;32m     16\u001b[0m \u001b[38;5;124;03m    Two-Stage least squares (2SLS) regression is a statistical technique that is used in the analysis of structural equations::\u001b[39;00m\n\u001b[1;32m     17\u001b[0m \u001b[38;5;124;03m    \u001b[39;00m\n\u001b[0;32m   (...)\u001b[0m\n\u001b[1;32m     95\u001b[0m \u001b[38;5;124;03m    array([0.38869162, 0.56184665])\u001b[39;00m\n\u001b[1;32m     96\u001b[0m \u001b[38;5;124;03m    \"\"\"\u001b[39;00m\n",
      "\u001b[0;31mModuleNotFoundError\u001b[0m: No module named 'nl_causal.ts_models.base'"
     ]
    }
   ],
   "source": [
    "from nl_causal.ts_models import _2SLS, _2SIR"
   ]
  },
  {
   "cell_type": "code",
   "execution_count": 72,
   "id": "48013561-29e2-4b6a-8b9e-cd3493468cc8",
   "metadata": {},
   "outputs": [
    {
     "name": "stdout",
     "output_type": "stream",
     "text": [
      "p-value based on 2SLS: 0.60930\n",
      "CI based on 2SLS: [-0.13427608  0.08645929]\n"
     ]
    }
   ],
   "source": [
    "## 2SLS\n",
    "LS = _2SLS(sparse_reg=None)\n",
    "## Stage-1 fit theta\n",
    "LS.fit_theta(LD_Z1, cov_ZX1)\n",
    "## Stage-2 fit beta\n",
    "LS.fit_beta(LD_Z2, cov_ZY2, n2)\n",
    "## produce p_value and CI for beta\n",
    "LS.test_effect(n2, LD_Z2, cov_ZY2)\n",
    "LS.CI_beta(n1, n2, Z1, X1, LD_Z2, cov_ZY2)\n",
    "print('p-value based on 2SLS: %.5f' %LS.p_value)\n",
    "print('CI based on 2SLS: %s' %(LS.CI*y_scale))"
   ]
  },
  {
   "cell_type": "code",
   "execution_count": 27,
   "id": "cbb21f0c-95dc-4224-9c77-21031264541c",
   "metadata": {},
   "outputs": [],
   "source": [
    "import pandas as pd\n",
    "\n",
    "def print_msg_box(msg, indent=1, width=None, title=None):\n",
    "    \"\"\"Print message-box with optional title.\"\"\"\n",
    "    lines = msg.split('\\n')\n",
    "    space = \" \" * indent\n",
    "    if not width:\n",
    "        width = max(map(len, lines))\n",
    "    box = f'╔{\"═\" * (width + indent * 2)}╗\\n'  # upper_border\n",
    "    if title:\n",
    "        box += f'║{space}{title:<{width}}{space}║\\n'  # title\n",
    "        box += f'║{space}{\"-\" * len(title):<{width}}{space}║\\n'  # underscore\n",
    "    box += ''.join([f'║{space}{line:<{width}}{space}║\\n' for line in lines])\n",
    "    box += f'╚{\"═\" * (width + indent * 2)}╝'  # lower_border\n",
    "    print(box)"
   ]
  },
  {
   "cell_type": "code",
   "execution_count": 103,
   "id": "fffc29aa-aa39-49d5-ab89-542677a8b13e",
   "metadata": {
    "scrolled": true
   },
   "outputs": [
    {
     "name": "stdout",
     "output_type": "stream",
     "text": [
      "╔════════════════════════════════════════════════╗\n",
      "║ 2SLS                                           ║\n",
      "║ ----                                           ║\n",
      "║ x = z^T theta + omega;                         ║\n",
      "║ y = beta x + z^T alpha + epsilon.              ║\n",
      "║ ---                                            ║\n",
      "║ beta: causal effect from x to y.               ║\n",
      "║ ---                                            ║\n",
      "║ Est beta (CI): -0.016 (CI: [-0.0879  0.0566])  ║\n",
      "║ p-value: 0.6093, -log10(p): 0.2152             ║\n",
      "╚════════════════════════════════════════════════╝\n"
     ]
    }
   ],
   "source": [
    "np.set_printoptions(precision=4)\n",
    "\n",
    "LS_result = {'model': \"2SLS: x = z^T theta + omega; y = beta x + z^T alpha + epsilon\",\n",
    "             'est beta': LS.beta, 'p-value': LS.p_value, 'CI': str(LS.CI)}\n",
    "\n",
    "msg = \"x = z^T theta + omega; \\n\" \\\n",
    "      \"y = beta x + z^T alpha + epsilon. \\n\" \\\n",
    "      \"--- \\n\" \\\n",
    "      \"beta: causal effect from x to y. \\n\" \\\n",
    "      \"--- \\n\" \\\n",
    "      \"Est beta (CI): %.3f (CI: %s) \\n\" \\\n",
    "      \"p-value: %.4f, -log10(p): %.4f\" %(LS.beta, LS.CI, LS.p_value, -np.log10(LS.p_value))\n",
    "\n",
    "print_msg_box(msg, indent=1, title=\"2SLS\")"
   ]
  },
  {
   "cell_type": "code",
   "execution_count": 100,
   "id": "4c8dc517-4e7a-4b9b-bb24-8c7686eaf8bd",
   "metadata": {},
   "outputs": [
    {
     "name": "stdout",
     "output_type": "stream",
     "text": [
      "x = z^T theta + omega; \n",
      "y = beta x + z^T alpha + epsilon. \n",
      "\n"
     ]
    }
   ],
   "source": []
  }
 ],
 "metadata": {
  "kernelspec": {
   "display_name": "Python 3 (ipykernel)",
   "language": "python",
   "name": "python3"
  },
  "language_info": {
   "codemirror_mode": {
    "name": "ipython",
    "version": 3
   },
   "file_extension": ".py",
   "mimetype": "text/x-python",
   "name": "python",
   "nbconvert_exporter": "python",
   "pygments_lexer": "ipython3",
   "version": "3.10.12"
  }
 },
 "nbformat": 4,
 "nbformat_minor": 5
}
