{
    "cells": [
        {
            "cell_type": "markdown",
            "source": [
                "# Simulation of **hypothesis testing** and **confidence interval**(CI) for the 2SLS, PT-2SLS, and the proposed 2SIR methods."
            ],
            "metadata": {}
        },
        {
            "cell_type": "code",
            "execution_count": 49,
            "source": [
                "from nl_causal.ts_models import _2SLS, _2SIR\n",
                "import numpy as np\n",
                "from sklearn.preprocessing import normalize\n",
                "from sim_data import sim\n",
                "from sklearn.preprocessing import StandardScaler\n",
                "from scipy import stats\n",
                "from sklearn.model_selection import train_test_split\n",
                "from sklearn.preprocessing import power_transform, quantile_transform"
            ],
            "outputs": [],
            "metadata": {}
        },
        {
            "cell_type": "markdown",
            "source": [
                "## A toy example with beta0 = 0.10, both `2SLS` and `PT-2SLS` provide wrong p-values and CIs, yet the proposed test is valid. (see more detailed simulation in `./sim`)"
            ],
            "metadata": {}
        },
        {
            "cell_type": "code",
            "execution_count": 56,
            "source": [
                "## simulate a dataset\n",
                "np.random.seed(1)\n",
                "n, p = 5000, 50\n",
                "beta0 = 0.10\n",
                "theta0 = np.random.randn(p)\n",
                "theta0 = theta0 / np.sqrt(np.sum(theta0**2))\n",
                "Z, X, y, phi = sim(n, p, theta0, beta0, case='inverse', feat='normal')\n",
                "## normalize the dataset\n",
                "center = StandardScaler(with_std=False)\n",
                "mean_X, mean_y = X.mean(), y.mean()\n",
                "Z, X, y = center.fit_transform(Z), X - mean_X, y - mean_y\n",
                "y_scale = y.std()\n",
                "y = y / y_scale\n",
                "## generate two-stage dataset\n",
                "Z1, Z2, X1, X2, y1, y2 = train_test_split(Z, X, y, test_size=0.5, random_state=42)\n",
                "n1, n2 = len(Z1), len(Z2)\n",
                "LD_Z1, cov_ZX1 = np.dot(Z1.T, Z1), np.dot(Z1.T, X1)\n",
                "LD_Z2, cov_ZY2 = np.dot(Z2.T, Z2), np.dot(Z2.T, y2)"
            ],
            "outputs": [],
            "metadata": {}
        },
        {
            "cell_type": "code",
            "execution_count": 57,
            "source": [
                "## 2SLS\n",
                "LS = _2SLS(sparse_reg=None)\n",
                "## Stage-1 fit theta\n",
                "LS.fit_theta(LD_Z1, cov_ZX1)\n",
                "## Stage-2 fit beta\n",
                "LS.fit_beta(LD_Z2, cov_ZY2, n2)\n",
                "## produce p_value and CI for beta\n",
                "LS.test_effect(n2, LD_Z2, cov_ZY2)\n",
                "LS.CI_beta(n1, n2, Z1, X1, LD_Z2, cov_ZY2)\n",
                "LS.CI[0] = max(LS.CI[0], 0.)\n",
                "print('p-value based on 2SLS: %.5f' %LS.p_value)\n",
                "print('CI based on 2SLS: %s' %(LS.CI*y_scale))"
            ],
            "outputs": [
                {
                    "output_type": "stream",
                    "name": "stdout",
                    "text": [
                        "p-value based on 2SLS: 0.27777\n",
                        "CI based on 2SLS: [0.         0.08686183]\n"
                    ]
                }
            ],
            "metadata": {}
        },
        {
            "cell_type": "code",
            "execution_count": 58,
            "source": [
                "## PT-2SLS\n",
                "PT_X1 = power_transform(X1.reshape(-1,1), method='yeo-johnson').flatten()\n",
                "PT_cor_ZX1 = np.dot(Z1.T, PT_X1)\n",
                "PT_LS = _2SLS(sparse_reg=None)\n",
                "## Stage-1 fit theta\n",
                "PT_LS.fit_theta(LD_Z1, PT_cor_ZX1)\n",
                "## Stage-2 fit beta\n",
                "PT_LS.fit_beta(LD_Z2, cov_ZY2, n2)\n",
                "## produce p-value and CI for beta\n",
                "PT_LS.test_effect(n2, LD_Z2, cov_ZY2)\n",
                "PT_LS.CI_beta(n1, n2, Z1, X1, LD_Z2, cov_ZY2)\n",
                "PT_LS.CI[0] = max(PT_LS.CI[0], 0.)\n",
                "print('p-value based on PT-2SLS: %.5f' %PT_LS.p_value)\n",
                "print('CI based on 2SLS: %s' %(PT_LS.CI*y_scale))"
            ],
            "outputs": [
                {
                    "output_type": "stream",
                    "name": "stdout",
                    "text": [
                        "p-value based on PT-2SLS: 0.32749\n",
                        "CI based on 2SLS: [0.         0.08361912]\n"
                    ]
                }
            ],
            "metadata": {}
        },
        {
            "cell_type": "code",
            "execution_count": 59,
            "source": [
                "## the proposed 2SIR\n",
                "SIR = _2SIR(sparse_reg=None)\n",
                "## Stage-1 fit theta\n",
                "SIR.fit_theta(Z1, X1)\n",
                "## Stage-2 fit beta\n",
                "SIR.fit_beta(LD_Z2, cov_ZY2, n2)\n",
                "## generate CI for beta\n",
                "SIR.test_effect(n2, LD_Z2, cov_ZY2)\n",
                "SIR.CI_beta(n1, n2, Z1, X1, LD_Z2, cov_ZY2)\n",
                "print('p-value based on 2SIR: %.5f' %SIR.p_value)\n",
                "print('CI based on 2SIR: %s' %(SIR.CI*y_scale))"
            ],
            "outputs": [
                {
                    "output_type": "stream",
                    "name": "stdout",
                    "text": [
                        "p-value based on 2SIR: 0.00003\n",
                        "CI based on 2SIR: [0.05994451 0.17434128]\n"
                    ]
                }
            ],
            "metadata": {}
        }
    ],
    "metadata": {
        "orig_nbformat": 4,
        "language_info": {
            "name": "python",
            "version": "3.8.10",
            "mimetype": "text/x-python",
            "codemirror_mode": {
                "name": "ipython",
                "version": 3
            },
            "pygments_lexer": "ipython3",
            "nbconvert_exporter": "python",
            "file_extension": ".py"
        },
        "kernelspec": {
            "name": "python3",
            "display_name": "Python 3.8.10 64-bit ('shiing': conda)"
        },
        "interpreter": {
            "hash": "414c3711fdd48b2f544ed65b2d7540fc36858fd70ee4f390e2b75c8d3b465c57"
        }
    },
    "nbformat": 4,
    "nbformat_minor": 2
}